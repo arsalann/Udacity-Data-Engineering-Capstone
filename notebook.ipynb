{
 "cells": [
  {
   "cell_type": "markdown",
   "metadata": {
    "editable": true
   },
   "source": [
    "# I94 Database - Exploration Notebook"
   ]
  },
  {
   "cell_type": "code",
   "execution_count": null,
   "metadata": {
    "editable": true
   },
   "outputs": [],
   "source": [
    "# Do all imports and installs here\r\n",
    "import pandas as pd\r\n",
    "from pyspark.sql import SparkSession\r\n",
    "\r\n",
    "path_immigration = \"output/fact/*\"\r\n",
    "spark = SparkSession.builder.enableHiveSupport().getOrCreate()\r\n",
    "df = spark.read.parquet(path_immigration)\r\n",
    "df.createOrReplaceTempView(\"df\")\r\n",
    "\r\n",
    "df.head()"
   ]
  },
  {
   "cell_type": "markdown",
   "metadata": {},
   "source": [
    "### Query 1: Filtered for teenagers and sorted by total people"
   ]
  },
  {
   "cell_type": "code",
   "execution_count": null,
   "metadata": {
    "editable": true
   },
   "outputs": [],
   "source": [
    "query = spark.sql(\"\"\"\r\n",
    "    SELECT\r\n",
    "        df.month,\r\n",
    "        df.state,\r\n",
    "        df.city,\r\n",
    "        df.origin_country,\r\n",
    "        df.gender,\r\n",
    "        df.age,\r\n",
    "        SUM(df.total_flights) AS total_flights,\r\n",
    "        SUM(df.total_people) AS total_people,\r\n",
    "        SUM(df.total_people)/SUM(df.total_flights) AS avg_per_flight\r\n",
    "    FROM\r\n",
    "        df\r\n",
    "    WHERE\r\n",
    "        df.month = 4 AND\r\n",
    "        df.age < 19 AND\r\n",
    "        df.age > 12 AND\r\n",
    "        df.mode_transport = \"Air\"\r\n",
    "    GROUP BY\r\n",
    "        df.month,\r\n",
    "        df.state,\r\n",
    "        df.city,\r\n",
    "        df.origin_country,\r\n",
    "        df.gender,\r\n",
    "        df.age\r\n",
    "    ORDER BY\r\n",
    "        SUM(df.total_people) DESC\r\n",
    "\"\"\")\r\n",
    "\r\n",
    "print(query.sort(query.total_people.desc()).show(25, truncate=True))\r\n",
    "# query.createOrReplaceTempView(\"query1\")"
   ]
  },
  {
   "cell_type": "markdown",
   "metadata": {},
   "source": [
    "### Query 2: Specific avg number of passengers per flight (estimated)"
   ]
  },
  {
   "cell_type": "code",
   "execution_count": null,
   "metadata": {},
   "outputs": [],
   "source": [
    "\r\n",
    "query.createOrReplaceTempView(\"query1\")\r\n",
    "query = spark.sql(\"\"\"\r\n",
    "    SELECT\r\n",
    "        query1.*\r\n",
    "    FROM\r\n",
    "        query1\r\n",
    "    WHERE\r\n",
    "        query1.avg_per_flight > 5\r\n",
    "\"\"\")\r\n",
    "\r\n",
    "print(query.sort(query.total_people.desc()).show(5, truncate=True))\r\n",
    "query.createOrReplaceTempView(\"query2\")"
   ]
  }
 ],
 "metadata": {
  "interpreter": {
   "hash": "2db524e06e9f5f4ffedc911c917cb75e12dbc923643829bf417064a77eb14d37"
  },
  "kernelspec": {
   "display_name": "Python 3.8.2 64-bit",
   "name": "python3"
  },
  "language_info": {
   "name": "python",
   "version": ""
  }
 },
 "nbformat": 4,
 "nbformat_minor": 4
}